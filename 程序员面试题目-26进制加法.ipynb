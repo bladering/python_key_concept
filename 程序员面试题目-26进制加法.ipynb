{
 "cells": [
  {
   "cell_type": "markdown",
   "metadata": {},
   "source": [
    "###  华为公司的程序员笔试题目(26进制数加法)\n",
    "  两个大整数相加， 每一位是一个小写字母，26进制，a表示0，z表示25，求结果：  \n",
    "  例如：  \n",
    "  输入: ```z  bc ```   \n",
    "  输出：```cb```    \n",
    "  \n",
    "-------------------------------------------"
   ]
  },
  {
   "cell_type": "markdown",
   "metadata": {},
   "source": [
    "### 解题思路分析：\n",
    " - **进制表示方法的转换：**  \n",
    " \n",
    "   -  十进制的数字    2358  \n",
    "       可以拆解为   2 x $10^3$ + 3 x $10^2$ + 5 x $10^1$ + 8 x $10^0$\n",
    "   -  十六进制的数字  fb9d  \n",
    "       可以拆解为   f x $10^3$ + b x $10^2$ + 9 x $10^1$ + d x $10^0$ (此处10为16进制的`10`)  \n",
    "       转换为十进制表示为 15 x $16^3$ + 11 x $16^2$ + 9 x $16^1$ + 14 x $16^0$\n",
    "   -  如果是二十六进制的数字  ztcj  \n",
    "       可以拆解为   z x $10^3$ + t x $10^2$ + c x $10^1$ + j x $10^0$ (此处10为26进制的`10`)  \n",
    "       转换为十进制表示为 25 x $26^3$ + 19 x $16^2$ + 2 x $16^1$ + 9 x $16^0$  \n",
    "       \n",
    " - **进制加法的计算方法：**  \n",
    "   把二十六进制的数字转换为十进制的数字相加，得到十进制的相加结果后再转换为二十六进制  \n",
    "   例如：  z + bc  \n",
    "     二十六进制 z   表示为十进制  25 x  $26^0$  = 25  \n",
    "     二十六进制 bc  表示为十进制  1 x $26^1$ + 2 x $26^0$ = 28  \n",
    "     二十六进制 z+bc 表示为十进制  25+28 = 53  \n",
    "     \n",
    "     用十进制相加得到的结果 53 再转换为二十六进制  \n",
    "     53 = 2 x $26^1$ + 1 x $26^0$  \n",
    "     即二十六进制 cb  \n",
    "     \n",
    "---------------------------------------------------------------------------------------  "
   ]
  },
  {
   "cell_type": "code",
   "execution_count": 29,
   "metadata": {},
   "outputs": [],
   "source": [
    "%timeit\n",
    "\n",
    "# 将26个字符按顺序生成一个a-z的字符列表\n",
    "\n",
    "# number_of_26 = range(26)\n",
    "# alphabeta_of_26 = list(map(lambda i:chr(i+97),range(26))) # 使用了map影射和lambda函数\n",
    "    \n",
    "alpahbeta_of_26 = [chr(i+97) for i in range(26)] # for循环建立26个字符顺序列表\n",
    "\n",
    "def alpha26_to_decimal(az26):  # 将二十六进制的数字转换为十进制的数字,az为输入的字符串\n",
    "    \"\"\"\n",
    "    本函数的作用是将一个26进制(a-z)的数值转换为10进制的数值\n",
    "    \"\"\"\n",
    "       \n",
    "    #az26 = az26.split()       # 将二十六进制数字按位拆分（错误的语句，字符串已经是list列表，可以按位访问）\n",
    "    digits = len(az26)         # 该二十六进制数字的位数，等于计算字符串的长度\n",
    "    value_in_decimal = 0       # 十进制的数值初始值赋为零\n",
    "    \n",
    "    #遍历字符串，按前述的原理:将字符串各个位上的字符d转换为，各个位上的对应的十进制数字i。alphabeta_of_26.index(d)\n",
    "    #在相应的位数上乘以26的幂次方 26^(digits-1-i),然后求和就是对应十进制的值。\n",
    "    \n",
    "    for i,d in enumerate(az26):    \n",
    "        value_in_decimal += alphabeta_of_26.index(d) * 26**(digits-1-i) \n",
    "    \n",
    "    # 返回该26进制数值的10进制值\n",
    "    return value_in_decimal        \n",
    "    \n",
    "def decimal_to_alpha26(num):\n",
    "    \"\"\"\n",
    "    本函数的作用是将一个10进制的数值转换为26进制(a-z字符表示)的数值\n",
    "    \"\"\"\n",
    "      \n",
    "    za26 = ''   # 初始化该26进制的数值为一个空字符串\n",
    "    \n",
    "    # 迭代方法计算(利用取余数法 mod)，把转换成26进制数的每一位的数值抽出，附加到字符串za26中，最小的位在最前面\n",
    "    while num:\n",
    "        za26 += alphabeta_of_26[num % 26]\n",
    "        num = num //26 \n",
    "    \n",
    "    # 对该字符串进行逆序排列，因为之前的字符串是数值中最小的位在最前面，最大的位在最后面\n",
    "    az26 = za26[::-1] \n",
    "    \n",
    "    #返回该10进制数值的26进制值\n",
    "    return az26\n",
    "    \n",
    "def add_with_26th():\n",
    "    print(\"请输入两个26进制的大整数：\")\n",
    "    x = input(\"输入第一个数：\")\n",
    "    y = input(\"输入第二个数：\")\n",
    "\n",
    "    return decimal_to_alpha26(alpha26_to_decimal(x)+alpha26_to_decimal(y)) \n",
    "    \n"
   ]
  },
  {
   "cell_type": "code",
   "execution_count": 30,
   "metadata": {},
   "outputs": [
    {
     "name": "stdout",
     "output_type": "stream",
     "text": [
      "请输入两个26进制的大整数：\n",
      "输入第一个数：sada\n",
      "输入第二个数：ghty\n"
     ]
    },
    {
     "data": {
      "text/plain": [
       "'yhwy'"
      ]
     },
     "execution_count": 30,
     "metadata": {},
     "output_type": "execute_result"
    }
   ],
   "source": [
    "%timeit\n",
    "add_with_26th()"
   ]
  }
 ],
 "metadata": {
  "kernelspec": {
   "display_name": "Python 3",
   "language": "python",
   "name": "python3"
  },
  "language_info": {
   "codemirror_mode": {
    "name": "ipython",
    "version": 3
   },
   "file_extension": ".py",
   "mimetype": "text/x-python",
   "name": "python",
   "nbconvert_exporter": "python",
   "pygments_lexer": "ipython3",
   "version": "3.5.5"
  }
 },
 "nbformat": 4,
 "nbformat_minor": 2
}
